{
 "cells": [
  {
   "cell_type": "markdown",
   "metadata": {},
   "source": [
    "# Run SpecUFEx\n",
    "\n",
    "================================================\n",
    "\n",
    "\n",
    "1. this should be done from command\n",
    "\n",
    "\n",
    "================================================\n",
    "\n",
    "*TODO:*\n",
    "\n",
    "\n",
    "\n",
    "\n",
    "\n",
    "\n",
    "================================================\n",
    "\n"
   ]
  },
  {
   "cell_type": "code",
   "execution_count": null,
   "metadata": {},
   "outputs": [],
   "source": []
  },
  {
   "cell_type": "code",
   "execution_count": null,
   "metadata": {},
   "outputs": [],
   "source": []
  },
  {
   "cell_type": "code",
   "execution_count": 1,
   "metadata": {},
   "outputs": [],
   "source": [
    "import argparse\n",
    "\n",
    "import h5py\n",
    "from matplotlib import pyplot as plt\n",
    "import numpy as np\n",
    "import pandas as pd\n",
    "import yaml\n",
    "# /src/main\n",
    "from specufex import BayesianNonparametricNMF, BayesianHMM\n",
    "\n"
   ]
  },
  {
   "cell_type": "markdown",
   "metadata": {},
   "source": [
    "### Load config yaml file"
   ]
  },
  {
   "cell_type": "code",
   "execution_count": 2,
   "metadata": {},
   "outputs": [],
   "source": [
    "yamlPath = \"/Users/theresasawi/Documents/12_Projects/sareq_sawietal/SAREQ_00.yaml\"\n",
    "\n",
    "with open(yamlPath) as stream:\n",
    "    config = yaml.safe_load(stream)"
   ]
  },
  {
   "cell_type": "markdown",
   "metadata": {},
   "source": [
    "## Set paths, variables"
   ]
  },
  {
   "cell_type": "code",
   "execution_count": 3,
   "metadata": {},
   "outputs": [],
   "source": [
    "\n",
    "# pull out config values for conciseness\n",
    "path_config = config[\"paths\"]\n",
    "key = path_config[\"key\"]\n",
    "\n",
    "data_config = config['dataParams']\n",
    "station = data_config[\"station\"]\n",
    "channel = data_config[\"channel\"]\n",
    "channel_ID = data_config[\"channel_ID\"]\n",
    "sampling_rate = data_config[\"sampling_rate\"]\n",
    "\n",
    "sgram_config = config[\"sgramParams\"]\n",
    "nfft = sgram_config[\"nfft\"]\n",
    "fmin, fmax = sgram_config[\"fmin\"], sgram_config[\"fmax\"]\n",
    "\n",
    "# build path strings\n",
    "dataH5_name = f'data_{key}.h5'\n",
    "projectPath = path_config[\"projectPath\"]\n",
    "pathWF = path_config[\"pathWF\"]\n",
    "\n",
    "dataH5_name =  'data_' + path_config[\"h5name\"] #f'data_{key}.hdf5'\n",
    "dataH5_path = projectPath + 'H5files/' + dataH5_name\n",
    "SpecUFEx_H5_name = 'SpecUFEx_' + path_config[\"h5name\"] #f'SpecUFEx_{key}.hdf5'\n",
    "SpecUFEx_H5_path = projectPath + 'H5files/' + SpecUFEx_H5_name\n",
    "pathWf_cat  = projectPath + 'wf_cat_out.csv'\n",
    "sgramMatOut = projectPath + 'matSgrams/'## for testing\n",
    "\n",
    "# pathSgram_cat = projectPath + f'sgram_cat_out_{key}.csv'\n",
    "pathSgram_cat = projectPath + f'sgram_cat_out_{key}.csv'\n",
    "\n",
    "\n",
    "sgram_cat = pd.read_csv(pathSgram_cat)\n"
   ]
  },
  {
   "cell_type": "markdown",
   "metadata": {},
   "source": [
    "### Linearize spectrograms"
   ]
  },
  {
   "cell_type": "code",
   "execution_count": 4,
   "metadata": {},
   "outputs": [
    {
     "name": "stdout",
     "output_type": "stream",
     "text": [
      "(3515, 344, 39)\n"
     ]
    }
   ],
   "source": [
    "X = []\n",
    "\n",
    "with h5py.File(SpecUFEx_H5_path,'a') as fileLoad:\n",
    "    for evID in fileLoad['spectrograms']:\n",
    "        specMat = fileLoad['spectrograms'].get(evID)[:]\n",
    "        X.append(specMat)\n",
    "\n",
    "    X = np.array(X)\n",
    "\n",
    "# ================\n",
    "print(np.shape(X))\n",
    "\n",
    "\n",
    "# print(X[:,:,-1])\n",
    "\n",
    "# # IOPub data rate exceeded.\n",
    "# # The notebook server will temporarily stop sending output\n",
    "# # to the client in order to avoid crashing it.\n",
    "# # To change this limit, set the config variable\n",
    "# # `--NotebookApp.iopub_data_rate_limit`.\n",
    "\n",
    "# # Current values:\n",
    "# # NotebookApp.iopub_data_rate_limit=1000000.0 (bytes/sec)\n",
    "# # NotebookApp.rate_limit_window=3.0 (secs)\n",
    "\n",
    "\n"
   ]
  },
  {
   "cell_type": "code",
   "execution_count": 16,
   "metadata": {},
   "outputs": [
    {
     "name": "stdout",
     "output_type": "stream",
     "text": [
      "100000 100000\n"
     ]
    }
   ],
   "source": [
    "print(specparams[\"nmf_batchsz\"],specparams[\"hmm_batchsz\"])"
   ]
  },
  {
   "cell_type": "code",
   "execution_count": 5,
   "metadata": {},
   "outputs": [
    {
     "name": "stdout",
     "output_type": "stream",
     "text": [
      "Running NMF\n",
      "Batch 0\n",
      "transforming NMF\n",
      "Running HMM\n",
      "Batch 0\n",
      "transforming HMM\n"
     ]
    },
    {
     "data": {
      "image/png": "[encoded data removed]",
      "text/plain": [
       "<Figure size 432x288 with 1 Axes>"
      ]
     },
     "metadata": {
      "needs_background": "light"
     },
     "output_type": "display_data"
    }
   ],
   "source": [
    "\n",
    "\n",
    "\n",
    "#%% ============================================================\n",
    "# Running SpecUFEx\n",
    "#%% ============================================================\n",
    "\n",
    "specparams = config[\"specufexParams\"]\n",
    "\n",
    "print('Running NMF')\n",
    "nmf = BayesianNonparametricNMF(X.shape)\n",
    "for i in range(specparams[\"nmf_nbatch\"]):\n",
    "    # pick random sample\n",
    "    print(f\"Batch {i}\")\n",
    "#     sample = np.random.choice(X.shape[0], specparams[\"nmf_batchsz\"])\n",
    "#     nmf.fit(X[sample], verbose=0)\n",
    "    nmf.fit(X, verbose=0)\n",
    "\n",
    "print('transforming NMF')    \n",
    "Vs = nmf.transform(X)\n",
    "# print how long it took\n",
    "\n",
    "#%%\n",
    "print('Running HMM')\n",
    "hmm = BayesianHMM(nmf.num_pat, nmf.gain)\n",
    "for i in range(specparams[\"hmm_nbatch\"]):\n",
    "    print(f\"Batch {i}\")\n",
    "#     sample = np.random.choice(Vs.shape[0], specparams[\"nmf_batchsz\"])\n",
    "    hmm.fit(Vs)\n",
    "\n",
    "print('transforming HMM')    \n",
    "fingerprints, As, gams = hmm.transform(Vs)\n",
    "\n",
    "# print(fingerprints[0])\n",
    "\n",
    "# show a fingerprint if you want to .. but not useful for running remotely..\n",
    "plt.imshow(fingerprints[0])\n",
    "plt.show()\n",
    "#%%\n"
   ]
  },
  {
   "cell_type": "markdown",
   "metadata": {
    "tags": []
   },
   "source": [
    "_this took <3 hours_ "
   ]
  },
  {
   "cell_type": "code",
   "execution_count": 7,
   "metadata": {},
   "outputs": [
    {
     "name": "stdout",
     "output_type": "stream",
     "text": [
      "writing all output to h5\n"
     ]
    }
   ],
   "source": [
    "# =============================================================================\n",
    "# save output to H5\n",
    "# =============================================================================\n",
    "print('writing all output to h5')\n",
    "with h5py.File(SpecUFEx_H5_path,'a') as fileLoad:\n",
    "\n",
    "\n",
    "    ##fingerprints are top folder\n",
    "    if 'fingerprints' in fileLoad.keys():\n",
    "        del fileLoad[\"fingerprints\"]\n",
    "    fp_group = fileLoad.create_group('fingerprints')\n",
    "\n",
    "    if 'SpecUFEX_output' in fileLoad.keys():\n",
    "        del fileLoad[\"SpecUFEX_output\"]\n",
    "    out_group = fileLoad.create_group(\"SpecUFEX_output\")\n",
    "\n",
    "    # write fingerprints: ===============================\n",
    "    for i, evID in enumerate(fileLoad['spectrograms']):\n",
    "        fp_group.create_dataset(name= evID, data=fingerprints[i])\n",
    "\n",
    "\n",
    "    # write the SpecUFEx out: ===========================\n",
    "    # maybe include these, but they are not yet tested.\n",
    "    ACM_group = fileLoad.create_group(\"SpecUFEX_output/ACM\")\n",
    "    STM_group = fileLoad.create_group(\"SpecUFEX_output/STM\")\n",
    "\n",
    "    for i, evID in enumerate(fileLoad['spectrograms']):\n",
    "        ACM_group.create_dataset(name=evID,data=As[i]) #ACM\n",
    "        STM_group.create_dataset(name=evID,data=gams[i]) #STM\n",
    "\n",
    "    gain_group = fileLoad.create_group(\"SpecUFEX_output/ACM_gain\")\n",
    "    W_group                      = fileLoad.create_group(\"SpecUFEX_output/W\")\n",
    "    EB_group                     = fileLoad.create_group(\"SpecUFEX_output/EB\")\n",
    "    ## # # delete probably ! gain_group                   = fileLoad.create_group(\"SpecUFEX_output/gain\")\n",
    "    #RMM_group                    = fileLoad.create_group(\"SpecUFEX_output/RMM\")\n",
    "\n",
    "    W_group.create_dataset(name='W',data=nmf.EW)\n",
    "    EB_group.create_dataset(name=evID,data=hmm.EB)\n",
    "    gain_group.create_dataset(name='gain',data=nmf.gain) #same for all data\n",
    "    # RMM_group.create_dataset(name=evID,data=RMM)\n"
   ]
  },
  {
   "cell_type": "code",
   "execution_count": 14,
   "metadata": {},
   "outputs": [
    {
     "data": {
      "text/plain": [
       "100000"
      ]
     },
     "execution_count": 14,
     "metadata": {},
     "output_type": "execute_result"
    }
   ],
   "source": [
    "\n"
   ]
  },
  {
   "cell_type": "code",
   "execution_count": null,
   "metadata": {},
   "outputs": [],
   "source": []
  }
 ],
 "metadata": {
  "kernelspec": {
   "display_name": "Python 3",
   "language": "python",
   "name": "python3"
  },
  "language_info": {
   "codemirror_mode": {
    "name": "ipython",
    "version": 3
   },
   "file_extension": ".py",
   "mimetype": "text/x-python",
   "name": "python",
   "nbconvert_exporter": "python",
   "pygments_lexer": "ipython3",
   "version": "3.7.8"
  }
 },
 "nbformat": 4,
 "nbformat_minor": 4
}
